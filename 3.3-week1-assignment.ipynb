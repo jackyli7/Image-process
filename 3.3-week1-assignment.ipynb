{
 "cells": [
  {
   "cell_type": "markdown",
   "metadata": {},
   "source": [
    "# 2022数字图像处理课程作业-1\n",
    "\n",
    "date:20220303\n",
    "\n",
    "tips:每次作业请在下周一晚上24点之前交到东大云盘对应的位置"
   ]
  },
  {
   "cell_type": "markdown",
   "metadata": {},
   "source": [
    "## Question-1\n",
    "给定一个 n × n 的二维矩阵 matrix 表示一个图像。请你将图像 逆 时针旋转 90 度。\n",
    "你必须在原地旋转图像，这意味着你需要直接修改输入的二维矩阵。请不要使用另一个矩阵来旋转图像。"
   ]
  },
  {
   "cell_type": "code",
   "execution_count": null,
   "metadata": {},
   "outputs": [],
   "source": []
  },
  {
   "cell_type": "markdown",
   "metadata": {},
   "source": [
    "## Question-2\n",
    "给定一个数组nums ，找出至多包含两个不同数字的最长连续子数组 ，并返回该子串的长度。例如：输入[3,3,1,1,2,2,2], 返回长度为5, 即满足条件的子数组为[1,1,2,2,2]。"
   ]
  },
  {
   "cell_type": "code",
   "execution_count": null,
   "metadata": {},
   "outputs": [],
   "source": []
  },
  {
   "cell_type": "markdown",
   "metadata": {},
   "source": [
    "## Question-3\n",
    "考虑两组点 P0， P1 描述线（⼆维平⾯）和⼀个点 p，如何计算 p 到每条线 i 的距离（P0[i]， P1[i]）， 设总共有⼗条线。"
   ]
  },
  {
   "cell_type": "code",
   "execution_count": null,
   "metadata": {},
   "outputs": [],
   "source": []
  },
  {
   "cell_type": "markdown",
   "metadata": {},
   "source": [
    "## Question-4\n",
    "试举例说明，在NumPy编程时，采用for循环与采用矩阵计算，性能差别究竟如何？原因何在？"
   ]
  },
  {
   "cell_type": "code",
   "execution_count": null,
   "metadata": {},
   "outputs": [],
   "source": []
  },
  {
   "cell_type": "markdown",
   "metadata": {},
   "source": [
    "## Question-5\n",
    "1. 图像读入、存储\n",
    "2. 图像像素级操作，修改图像最中间20行为红色\n",
    "3. 在图像中任意指定一个矩形子区域，其内容改成另一个图像\n",
    "4. 实现opencv中边缘检测算法之————Sobel、Canny算子\n"
   ]
  },
  {
   "cell_type": "code",
   "execution_count": null,
   "metadata": {},
   "outputs": [],
   "source": []
  }
 ],
 "metadata": {
  "kernelspec": {
   "display_name": "Python 3",
   "language": "python",
   "name": "python3"
  },
  "language_info": {
   "codemirror_mode": {
    "name": "ipython",
    "version": 3
   },
   "file_extension": ".py",
   "mimetype": "text/x-python",
   "name": "python",
   "nbconvert_exporter": "python",
   "pygments_lexer": "ipython3",
   "version": "3.7.4"
  }
 },
 "nbformat": 4,
 "nbformat_minor": 2
}
